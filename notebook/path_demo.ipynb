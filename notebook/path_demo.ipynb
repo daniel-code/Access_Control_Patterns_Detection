{
 "cells": [
  {
   "cell_type": "markdown",
   "metadata": {
    "collapsed": true,
    "pycharm": {
     "name": "#%% md\n"
    }
   },
   "source": [
    "# Path module demo\n"
   ]
  },
  {
   "cell_type": "code",
   "execution_count": 1,
   "outputs": [
    {
     "name": "stderr",
     "output_type": "stream",
     "text": [
      "C:\\Users\\danie\\Anaconda3\\envs\\Access_control_patterns_detection\\lib\\site-packages\\sklearn\\externals\\joblib\\__init__.py:15: FutureWarning: sklearn.externals.joblib is deprecated in 0.21 and will be removed in 0.23. Please import this functionality directly from joblib, which can be installed with: pip install joblib. If this warning is raised when loading pickled models, you may need to re-serialize those models with scikit-learn 0.21+.\n",
      "  warnings.warn(msg, category=FutureWarning)\n"
     ]
    }
   ],
   "source": [
    "import pandas as pd\n",
    "\n",
    "from patterns_detection_module.path import PathModel"
   ],
   "metadata": {
    "collapsed": false,
    "pycharm": {
     "name": "#%%\n"
    }
   }
  },
  {
   "cell_type": "code",
   "execution_count": 2,
   "outputs": [
    {
     "data": {
      "text/plain": "{'1-01-I01': 0,\n '1-01-O02': 1,\n '10-01-I01': 2,\n '10-01-I02': 3,\n '10-01-I03': 4,\n '10-01-I04': 5,\n '10-01-O01': 6,\n '10-01-O02': 7,\n '10-01-O03': 8,\n '10-01-O04': 9,\n '11-01-I01': 10,\n '11-01-I02': 11,\n '11-01-O01': 12,\n '11-01-O02': 13,\n '12-01-I01': 14,\n '12-01-O01': 15,\n '13-01-I01': 16,\n '13-01-I02': 17,\n '13-01-I03': 18,\n '13-01-O01': 19,\n '13-01-O02': 20,\n '13-01-O03': 21,\n '2-01-I01': 22,\n '2-01-I02': 23,\n '2-01-O02': 24,\n '3-01-I03': 25,\n '3-01-I08': 26,\n '3-01-I12': 27,\n '3-01-O03': 28,\n '3-01-O04': 29,\n '3-01-O08': 30,\n '3-01-O09': 31,\n '3-01-O12': 32,\n '4-01-I08': 33,\n '4-01-I09': 34,\n '4-01-I10': 35,\n '4-01-I11': 36,\n '4-01-O09': 37,\n '4-01-O10': 38,\n '4-01-O11': 39,\n '5-01-I03': 40,\n '5-01-I05': 41,\n '5-01-I06': 42,\n '5-01-I07': 43,\n '5-01-I08': 44,\n '5-01-O04': 45,\n '5-01-O05': 46,\n '5-01-O06': 47,\n '5-01-O07': 48,\n '5-01-O08': 49,\n '6-01-I01': 50,\n '6-01-I02': 51,\n '6-01-O01': 52,\n '7-01-I01': 53,\n '7-01-I02': 54,\n '7-01-I03': 55,\n '7-01-I04': 56,\n '7-01-I05': 57,\n '7-01-I06': 58,\n '7-01-I07': 59,\n '7-01-O01': 60,\n '7-01-O02': 61,\n '7-01-O03': 62,\n '7-01-O04': 63,\n '7-01-O05': 64,\n '7-01-O06': 65,\n '7-01-O07': 66,\n '8-01-I01': 67,\n '8-01-O01': 68,\n '8-01-O02': 69,\n '9-01-I05': 70,\n '9-01-I06': 71,\n '9-01-O05': 72,\n '9-01-O06': 73}"
     },
     "execution_count": 2,
     "metadata": {},
     "output_type": "execute_result"
    }
   ],
   "source": [
    "FILE_PATH = 'model.pkl'\n",
    "TEST_BATCH = 100\n",
    "# building nums\n",
    "building_num = 13\n",
    "# gates code table\n",
    "gates_code_table = pd.read_csv('../test_data/gate_code.csv').set_index('gate').to_dict()['id']\n",
    "gates_code_table"
   ],
   "metadata": {
    "collapsed": false,
    "pycharm": {
     "name": "#%%\n"
    }
   }
  },
  {
   "cell_type": "code",
   "execution_count": 3,
   "outputs": [
    {
     "data": {
      "text/plain": "             datetime building floor   IO employee_ID\n0 2017-01-01 07:20:47        5    01  I06           A\n1 2017-01-01 10:52:52        5    01  O06           A\n2 2017-01-01 11:14:00        5    01  I05           A\n3 2017-01-01 16:05:37        5    01  O06           A\n4 2017-01-01 16:27:10        5    01  I05           A",
      "text/html": "<div>\n<style scoped>\n    .dataframe tbody tr th:only-of-type {\n        vertical-align: middle;\n    }\n\n    .dataframe tbody tr th {\n        vertical-align: top;\n    }\n\n    .dataframe thead th {\n        text-align: right;\n    }\n</style>\n<table border=\"1\" class=\"dataframe\">\n  <thead>\n    <tr style=\"text-align: right;\">\n      <th></th>\n      <th>datetime</th>\n      <th>building</th>\n      <th>floor</th>\n      <th>IO</th>\n      <th>employee_ID</th>\n    </tr>\n  </thead>\n  <tbody>\n    <tr>\n      <th>0</th>\n      <td>2017-01-01 07:20:47</td>\n      <td>5</td>\n      <td>01</td>\n      <td>I06</td>\n      <td>A</td>\n    </tr>\n    <tr>\n      <th>1</th>\n      <td>2017-01-01 10:52:52</td>\n      <td>5</td>\n      <td>01</td>\n      <td>O06</td>\n      <td>A</td>\n    </tr>\n    <tr>\n      <th>2</th>\n      <td>2017-01-01 11:14:00</td>\n      <td>5</td>\n      <td>01</td>\n      <td>I05</td>\n      <td>A</td>\n    </tr>\n    <tr>\n      <th>3</th>\n      <td>2017-01-01 16:05:37</td>\n      <td>5</td>\n      <td>01</td>\n      <td>O06</td>\n      <td>A</td>\n    </tr>\n    <tr>\n      <th>4</th>\n      <td>2017-01-01 16:27:10</td>\n      <td>5</td>\n      <td>01</td>\n      <td>I05</td>\n      <td>A</td>\n    </tr>\n  </tbody>\n</table>\n</div>"
     },
     "execution_count": 3,
     "metadata": {},
     "output_type": "execute_result"
    }
   ],
   "source": [
    "# read access control data\n",
    "raw_data = pd.read_csv('../test_data/test_data1.csv', dtype={'building': str, 'floor': str, 'IO': str})\n",
    "raw_data['datetime'] = pd.to_datetime(raw_data['datetime'])\n",
    "raw_data.head()"
   ],
   "metadata": {
    "collapsed": false,
    "pycharm": {
     "name": "#%%\n"
    }
   }
  },
  {
   "cell_type": "code",
   "execution_count": 4,
   "outputs": [
    {
     "name": "stdout",
     "output_type": "stream",
     "text": [
      "[0.29166667 0.33333333 0.78333333 1.         0.         0.\n",
      " 0.         0.         0.         0.         1.         0.\n",
      " 0.         0.         0.         1.         0.         0.\n",
      " 0.         0.         0.         0.         0.         0.\n",
      " 0.         0.         0.         0.         0.         0.\n",
      " 0.         0.         0.         0.         0.         0.\n",
      " 0.         0.         0.         0.         0.         0.\n",
      " 0.         0.         0.         0.         0.         0.\n",
      " 0.         0.         0.         0.         0.         0.\n",
      " 0.         0.         0.         0.         0.         0.\n",
      " 0.         0.         0.         0.         0.         0.\n",
      " 1.         0.         0.         0.         0.         0.\n",
      " 0.         0.         0.         0.         0.         0.\n",
      " 0.         0.         0.         0.         0.         0.\n",
      " 0.         0.         0.         0.         0.         0.\n",
      " 0.         0.         0.         0.         0.         0.\n",
      " 0.         0.        ]\n",
      "47.0\n"
     ]
    }
   ],
   "source": [
    "# create path model\n",
    "path_model = PathModel()\n",
    "x, y = path_model.data_encoding(raw_data=raw_data, building_num=building_num,gates_code_table=gates_code_table)\n",
    "# split training and test data\n",
    "x_raw_data, y_raw_data = raw_data.iloc[:-TEST_BATCH], raw_data.iloc[-TEST_BATCH:]\n",
    "x_train, x_test = x[:-TEST_BATCH], x[-TEST_BATCH:]\n",
    "y_train, y_test = y[:-TEST_BATCH], y[-TEST_BATCH:]\n",
    "\n",
    "print(x[0])\n",
    "print(y[0])"
   ],
   "metadata": {
    "collapsed": false,
    "pycharm": {
     "name": "#%%\n"
    }
   }
  },
  {
   "cell_type": "code",
   "execution_count": 5,
   "outputs": [],
   "source": [
    "# train model\n",
    "path_model.fit(X=x_train, y=y_train)\n",
    "# save model\n",
    "path_model.save_model(filename=FILE_PATH)\n",
    "# load pre-trained model\n",
    "path_model.load_model(filename=FILE_PATH)\n"
   ],
   "metadata": {
    "collapsed": false,
    "pycharm": {
     "name": "#%%\n"
    }
   }
  },
  {
   "cell_type": "code",
   "execution_count": 6,
   "outputs": [
    {
     "name": "stdout",
     "output_type": "stream",
     "text": [
      "[46. 41. 46. 42. 46.]\n"
     ]
    }
   ],
   "source": [
    "# predict gate code\n",
    "y_pred = path_model.predict(X=x_test)\n",
    "print(y_pred[:5])\n"
   ],
   "metadata": {
    "collapsed": false,
    "pycharm": {
     "name": "#%%\n"
    }
   }
  },
  {
   "cell_type": "code",
   "execution_count": 7,
   "outputs": [
    {
     "data": {
      "text/plain": "<Figure size 1440x720 with 1 Axes>",
      "image/png": "[encoded data removed]"
     },
     "metadata": {
      "needs_background": "light"
     },
     "output_type": "display_data"
    }
   ],
   "source": [
    "# plot predict and truth gates\n",
    "path_model.plot_output(y_test, y_pred)\n",
    "\n"
   ],
   "metadata": {
    "collapsed": false,
    "pycharm": {
     "name": "#%%\n"
    }
   }
  },
  {
   "cell_type": "code",
   "execution_count": 8,
   "outputs": [],
   "source": [
    "# output wrong predict cases\n",
    "path_model.to_csv('output.csv', y_raw_data, y_test, y_pred)\n",
    "\n"
   ],
   "metadata": {
    "collapsed": false,
    "pycharm": {
     "name": "#%%\n"
    }
   }
  },
  {
   "cell_type": "code",
   "execution_count": 9,
   "outputs": [
    {
     "data": {
      "text/plain": "   id                 datetime employee_ID  real_gate_code  predict_gate_code\n0   0  2017-11-27 12:11:10.017           A            47.0               46.0\n1   2  2017-11-27 17:27:16.727           A            47.0               46.0\n2   7  2017-11-28 16:07:16.407           A            42.0               41.0\n3   8  2017-11-28 16:23:20.733           A            47.0               46.0\n4   9  2017-11-28 19:39:04.600           A            42.0               41.0",
      "text/html": "<div>\n<style scoped>\n    .dataframe tbody tr th:only-of-type {\n        vertical-align: middle;\n    }\n\n    .dataframe tbody tr th {\n        vertical-align: top;\n    }\n\n    .dataframe thead th {\n        text-align: right;\n    }\n</style>\n<table border=\"1\" class=\"dataframe\">\n  <thead>\n    <tr style=\"text-align: right;\">\n      <th></th>\n      <th>id</th>\n      <th>datetime</th>\n      <th>employee_ID</th>\n      <th>real_gate_code</th>\n      <th>predict_gate_code</th>\n    </tr>\n  </thead>\n  <tbody>\n    <tr>\n      <th>0</th>\n      <td>0</td>\n      <td>2017-11-27 12:11:10.017</td>\n      <td>A</td>\n      <td>47.0</td>\n      <td>46.0</td>\n    </tr>\n    <tr>\n      <th>1</th>\n      <td>2</td>\n      <td>2017-11-27 17:27:16.727</td>\n      <td>A</td>\n      <td>47.0</td>\n      <td>46.0</td>\n    </tr>\n    <tr>\n      <th>2</th>\n      <td>7</td>\n      <td>2017-11-28 16:07:16.407</td>\n      <td>A</td>\n      <td>42.0</td>\n      <td>41.0</td>\n    </tr>\n    <tr>\n      <th>3</th>\n      <td>8</td>\n      <td>2017-11-28 16:23:20.733</td>\n      <td>A</td>\n      <td>47.0</td>\n      <td>46.0</td>\n    </tr>\n    <tr>\n      <th>4</th>\n      <td>9</td>\n      <td>2017-11-28 19:39:04.600</td>\n      <td>A</td>\n      <td>42.0</td>\n      <td>41.0</td>\n    </tr>\n  </tbody>\n</table>\n</div>"
     },
     "execution_count": 9,
     "metadata": {},
     "output_type": "execute_result"
    }
   ],
   "source": [
    "pd.read_csv('output.csv',index_col=[0]).head()\n"
   ],
   "metadata": {
    "collapsed": false,
    "pycharm": {
     "name": "#%%\n"
    }
   }
  },
  {
   "cell_type": "code",
   "execution_count": 10,
   "outputs": [
    {
     "name": "stdout",
     "output_type": "stream",
     "text": [
      "Accuracy = 0.515\n"
     ]
    }
   ],
   "source": [
    "print('Accuracy = {:.3f}'.format(path_model.score(X=x_test[:-1], y=y_test[:-1])))\n"
   ],
   "metadata": {
    "collapsed": false,
    "pycharm": {
     "name": "#%%\n"
    }
   }
  },
  {
   "cell_type": "code",
   "execution_count": 10,
   "outputs": [],
   "source": [
    "\n"
   ],
   "metadata": {
    "collapsed": false,
    "pycharm": {
     "name": "#%%\n"
    }
   }
  }
 ],
 "metadata": {
  "kernelspec": {
   "display_name": "Python 3",
   "language": "python",
   "name": "python3"
  },
  "language_info": {
   "codemirror_mode": {
    "name": "ipython",
    "version": 2
   },
   "file_extension": ".py",
   "mimetype": "text/x-python",
   "name": "python",
   "nbconvert_exporter": "python",
   "pygments_lexer": "ipython2",
   "version": "2.7.6"
  }
 },
 "nbformat": 4,
 "nbformat_minor": 0
}